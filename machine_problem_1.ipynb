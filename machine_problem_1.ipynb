{
  "cells": [
    {
      "cell_type": "markdown",
      "metadata": {
        "colab_type": "text",
        "id": "view-in-github"
      },
      "source": [
        "<a href=\"https://colab.research.google.com/github/robitussin/CCDATS1L_EXAM/blob/main/machine_problem_1.ipynb\" target=\"_parent\"><img src=\"https://colab.research.google.com/assets/colab-badge.svg\" alt=\"Open In Colab\"/></a>"
      ]
    },
    {
      "cell_type": "markdown",
      "metadata": {
        "id": "_NJNtBBtF8xi"
      },
      "source": [
        "# Machine Problem 1"
      ]
    },
    {
      "cell_type": "markdown",
      "metadata": {
        "id": "8EceuOTIGcsH"
      },
      "source": [
        "Instructions ❗️❗️\n",
        "\n",
        "❌ Do not remove or modify the notebook sections, subsections, exam questions or any text in this python notebook\n",
        "\n",
        "✔️ Put your answer in the designated cells below each question"
      ]
    },
    {
      "cell_type": "code",
      "execution_count": 1,
      "metadata": {
        "id": "MqOQkbEFF8xr"
      },
      "outputs": [],
      "source": [
        "import pandas as pd\n",
        "from sklearn.preprocessing import MinMaxScaler\n",
        "import matplotlib.pyplot as plt\n",
        "import seaborn as sns"
      ]
    },
    {
      "cell_type": "markdown",
      "metadata": {
        "id": "oYLBYVQJF8xs"
      },
      "source": [
        "## Data Cleaning"
      ]
    },
    {
      "cell_type": "code",
      "execution_count": 2,
      "metadata": {
        "id": "0ElL8OL8F8xs"
      },
      "outputs": [],
      "source": [
        "df = pd.read_csv('food.csv')"
      ]
    },
    {
      "cell_type": "markdown",
      "metadata": {
        "id": "ix_kMM-XF8xs"
      },
      "source": [
        "1. Remove all duplicates in the dataset. `(6 points)`"
      ]
    },
    {
      "cell_type": "code",
      "execution_count": 3,
      "metadata": {
        "id": "mpzOx-X-F8xs"
      },
      "outputs": [
        {
          "data": {
            "text/html": [
              "<div>\n",
              "<style scoped>\n",
              "    .dataframe tbody tr th:only-of-type {\n",
              "        vertical-align: middle;\n",
              "    }\n",
              "\n",
              "    .dataframe tbody tr th {\n",
              "        vertical-align: top;\n",
              "    }\n",
              "\n",
              "    .dataframe thead th {\n",
              "        text-align: right;\n",
              "    }\n",
              "</style>\n",
              "<table border=\"1\" class=\"dataframe\">\n",
              "  <thead>\n",
              "    <tr style=\"text-align: right;\">\n",
              "      <th></th>\n",
              "      <th>GPA</th>\n",
              "      <th>Gender</th>\n",
              "      <th>breakfast</th>\n",
              "      <th>calories_chicken</th>\n",
              "      <th>calories_day</th>\n",
              "      <th>calories_scone</th>\n",
              "      <th>coffee</th>\n",
              "      <th>comfort_food</th>\n",
              "      <th>comfort_food_reasons</th>\n",
              "      <th>comfort_food_reasons_coded</th>\n",
              "      <th>...</th>\n",
              "      <th>soup</th>\n",
              "      <th>sports</th>\n",
              "      <th>thai_food</th>\n",
              "      <th>tortilla_calories</th>\n",
              "      <th>turkey_calories</th>\n",
              "      <th>type_sports</th>\n",
              "      <th>veggies_day</th>\n",
              "      <th>vitamins</th>\n",
              "      <th>waffle_calories</th>\n",
              "      <th>weight</th>\n",
              "    </tr>\n",
              "  </thead>\n",
              "  <tbody>\n",
              "    <tr>\n",
              "      <th>0</th>\n",
              "      <td>2.4</td>\n",
              "      <td>2</td>\n",
              "      <td>1</td>\n",
              "      <td>430</td>\n",
              "      <td>NaN</td>\n",
              "      <td>315.0</td>\n",
              "      <td>1</td>\n",
              "      <td>none</td>\n",
              "      <td>we dont have comfort</td>\n",
              "      <td>9.0</td>\n",
              "      <td>...</td>\n",
              "      <td>1.0</td>\n",
              "      <td>1.0</td>\n",
              "      <td>1</td>\n",
              "      <td>1165.0</td>\n",
              "      <td>345</td>\n",
              "      <td>car racing</td>\n",
              "      <td>5</td>\n",
              "      <td>1</td>\n",
              "      <td>1315</td>\n",
              "      <td>187</td>\n",
              "    </tr>\n",
              "    <tr>\n",
              "      <th>1</th>\n",
              "      <td>3.654</td>\n",
              "      <td>1</td>\n",
              "      <td>1</td>\n",
              "      <td>610</td>\n",
              "      <td>3.0</td>\n",
              "      <td>420.0</td>\n",
              "      <td>2</td>\n",
              "      <td>chocolate, chips, ice cream</td>\n",
              "      <td>Stress, bored, anger</td>\n",
              "      <td>1.0</td>\n",
              "      <td>...</td>\n",
              "      <td>1.0</td>\n",
              "      <td>1.0</td>\n",
              "      <td>2</td>\n",
              "      <td>725.0</td>\n",
              "      <td>690</td>\n",
              "      <td>Basketball</td>\n",
              "      <td>4</td>\n",
              "      <td>2</td>\n",
              "      <td>900</td>\n",
              "      <td>155</td>\n",
              "    </tr>\n",
              "    <tr>\n",
              "      <th>2</th>\n",
              "      <td>3.3</td>\n",
              "      <td>1</td>\n",
              "      <td>1</td>\n",
              "      <td>720</td>\n",
              "      <td>4.0</td>\n",
              "      <td>420.0</td>\n",
              "      <td>2</td>\n",
              "      <td>frozen yogurt, pizza, fast food</td>\n",
              "      <td>stress, sadness</td>\n",
              "      <td>1.0</td>\n",
              "      <td>...</td>\n",
              "      <td>1.0</td>\n",
              "      <td>2.0</td>\n",
              "      <td>5</td>\n",
              "      <td>1165.0</td>\n",
              "      <td>500</td>\n",
              "      <td>none</td>\n",
              "      <td>5</td>\n",
              "      <td>1</td>\n",
              "      <td>900</td>\n",
              "      <td>I'm not answering this.</td>\n",
              "    </tr>\n",
              "    <tr>\n",
              "      <th>3</th>\n",
              "      <td>3.2</td>\n",
              "      <td>1</td>\n",
              "      <td>1</td>\n",
              "      <td>430</td>\n",
              "      <td>3.0</td>\n",
              "      <td>420.0</td>\n",
              "      <td>2</td>\n",
              "      <td>Pizza, Mac and cheese, ice cream</td>\n",
              "      <td>Boredom</td>\n",
              "      <td>2.0</td>\n",
              "      <td>...</td>\n",
              "      <td>1.0</td>\n",
              "      <td>2.0</td>\n",
              "      <td>5</td>\n",
              "      <td>725.0</td>\n",
              "      <td>690</td>\n",
              "      <td>NaN</td>\n",
              "      <td>3</td>\n",
              "      <td>1</td>\n",
              "      <td>1315</td>\n",
              "      <td>Not sure, 240</td>\n",
              "    </tr>\n",
              "    <tr>\n",
              "      <th>4</th>\n",
              "      <td>3.5</td>\n",
              "      <td>1</td>\n",
              "      <td>1</td>\n",
              "      <td>720</td>\n",
              "      <td>2.0</td>\n",
              "      <td>420.0</td>\n",
              "      <td>2</td>\n",
              "      <td>Ice cream, chocolate, chips</td>\n",
              "      <td>Stress, boredom, cravings</td>\n",
              "      <td>1.0</td>\n",
              "      <td>...</td>\n",
              "      <td>1.0</td>\n",
              "      <td>1.0</td>\n",
              "      <td>4</td>\n",
              "      <td>940.0</td>\n",
              "      <td>500</td>\n",
              "      <td>Softball</td>\n",
              "      <td>4</td>\n",
              "      <td>2</td>\n",
              "      <td>760</td>\n",
              "      <td>190</td>\n",
              "    </tr>\n",
              "    <tr>\n",
              "      <th>...</th>\n",
              "      <td>...</td>\n",
              "      <td>...</td>\n",
              "      <td>...</td>\n",
              "      <td>...</td>\n",
              "      <td>...</td>\n",
              "      <td>...</td>\n",
              "      <td>...</td>\n",
              "      <td>...</td>\n",
              "      <td>...</td>\n",
              "      <td>...</td>\n",
              "      <td>...</td>\n",
              "      <td>...</td>\n",
              "      <td>...</td>\n",
              "      <td>...</td>\n",
              "      <td>...</td>\n",
              "      <td>...</td>\n",
              "      <td>...</td>\n",
              "      <td>...</td>\n",
              "      <td>...</td>\n",
              "      <td>...</td>\n",
              "      <td>...</td>\n",
              "    </tr>\n",
              "    <tr>\n",
              "      <th>120</th>\n",
              "      <td>3.5</td>\n",
              "      <td>1</td>\n",
              "      <td>1</td>\n",
              "      <td>610</td>\n",
              "      <td>4.0</td>\n",
              "      <td>420.0</td>\n",
              "      <td>2</td>\n",
              "      <td>wine. mac and cheese, pizza, ice cream</td>\n",
              "      <td>boredom and sadness</td>\n",
              "      <td>NaN</td>\n",
              "      <td>...</td>\n",
              "      <td>1.0</td>\n",
              "      <td>1.0</td>\n",
              "      <td>5</td>\n",
              "      <td>940.0</td>\n",
              "      <td>500</td>\n",
              "      <td>Softball</td>\n",
              "      <td>5</td>\n",
              "      <td>1</td>\n",
              "      <td>1315</td>\n",
              "      <td>156</td>\n",
              "    </tr>\n",
              "    <tr>\n",
              "      <th>121</th>\n",
              "      <td>3</td>\n",
              "      <td>1</td>\n",
              "      <td>1</td>\n",
              "      <td>265</td>\n",
              "      <td>2.0</td>\n",
              "      <td>315.0</td>\n",
              "      <td>2</td>\n",
              "      <td>Pizza / Wings / Cheesecake</td>\n",
              "      <td>Loneliness / Homesick / Sadness</td>\n",
              "      <td>NaN</td>\n",
              "      <td>...</td>\n",
              "      <td>1.0</td>\n",
              "      <td>NaN</td>\n",
              "      <td>4</td>\n",
              "      <td>940.0</td>\n",
              "      <td>500</td>\n",
              "      <td>basketball</td>\n",
              "      <td>5</td>\n",
              "      <td>2</td>\n",
              "      <td>1315</td>\n",
              "      <td>180</td>\n",
              "    </tr>\n",
              "    <tr>\n",
              "      <th>122</th>\n",
              "      <td>3.882</td>\n",
              "      <td>1</td>\n",
              "      <td>1</td>\n",
              "      <td>720</td>\n",
              "      <td>NaN</td>\n",
              "      <td>420.0</td>\n",
              "      <td>1</td>\n",
              "      <td>rice, potato, seaweed soup</td>\n",
              "      <td>sadness</td>\n",
              "      <td>NaN</td>\n",
              "      <td>...</td>\n",
              "      <td>1.0</td>\n",
              "      <td>2.0</td>\n",
              "      <td>5</td>\n",
              "      <td>580.0</td>\n",
              "      <td>690</td>\n",
              "      <td>none</td>\n",
              "      <td>4</td>\n",
              "      <td>2</td>\n",
              "      <td>1315</td>\n",
              "      <td>120</td>\n",
              "    </tr>\n",
              "    <tr>\n",
              "      <th>123</th>\n",
              "      <td>3</td>\n",
              "      <td>2</td>\n",
              "      <td>1</td>\n",
              "      <td>720</td>\n",
              "      <td>4.0</td>\n",
              "      <td>420.0</td>\n",
              "      <td>1</td>\n",
              "      <td>Mac n Cheese, Lasagna, Pizza</td>\n",
              "      <td>happiness, they are some of my favorite foods</td>\n",
              "      <td>NaN</td>\n",
              "      <td>...</td>\n",
              "      <td>2.0</td>\n",
              "      <td>2.0</td>\n",
              "      <td>1</td>\n",
              "      <td>940.0</td>\n",
              "      <td>500</td>\n",
              "      <td>NaN</td>\n",
              "      <td>3</td>\n",
              "      <td>1</td>\n",
              "      <td>1315</td>\n",
              "      <td>135</td>\n",
              "    </tr>\n",
              "    <tr>\n",
              "      <th>124</th>\n",
              "      <td>3.9</td>\n",
              "      <td>1</td>\n",
              "      <td>1</td>\n",
              "      <td>430</td>\n",
              "      <td>NaN</td>\n",
              "      <td>315.0</td>\n",
              "      <td>2</td>\n",
              "      <td>Chocolates, pizza, and Ritz.</td>\n",
              "      <td>hormones, Premenstrual syndrome.</td>\n",
              "      <td>NaN</td>\n",
              "      <td>...</td>\n",
              "      <td>1.0</td>\n",
              "      <td>2.0</td>\n",
              "      <td>2</td>\n",
              "      <td>725.0</td>\n",
              "      <td>345</td>\n",
              "      <td>NaN</td>\n",
              "      <td>4</td>\n",
              "      <td>2</td>\n",
              "      <td>575</td>\n",
              "      <td>135</td>\n",
              "    </tr>\n",
              "  </tbody>\n",
              "</table>\n",
              "<p>125 rows × 61 columns</p>\n",
              "</div>"
            ],
            "text/plain": [
              "       GPA  Gender  breakfast  calories_chicken  calories_day  calories_scone  \\\n",
              "0      2.4       2          1               430           NaN           315.0   \n",
              "1    3.654       1          1               610           3.0           420.0   \n",
              "2      3.3       1          1               720           4.0           420.0   \n",
              "3      3.2       1          1               430           3.0           420.0   \n",
              "4      3.5       1          1               720           2.0           420.0   \n",
              "..     ...     ...        ...               ...           ...             ...   \n",
              "120    3.5       1          1               610           4.0           420.0   \n",
              "121      3       1          1               265           2.0           315.0   \n",
              "122  3.882       1          1               720           NaN           420.0   \n",
              "123      3       2          1               720           4.0           420.0   \n",
              "124    3.9       1          1               430           NaN           315.0   \n",
              "\n",
              "     coffee                             comfort_food  \\\n",
              "0         1                                     none   \n",
              "1         2              chocolate, chips, ice cream   \n",
              "2         2          frozen yogurt, pizza, fast food   \n",
              "3         2         Pizza, Mac and cheese, ice cream   \n",
              "4         2             Ice cream, chocolate, chips    \n",
              "..      ...                                      ...   \n",
              "120       2  wine. mac and cheese, pizza, ice cream    \n",
              "121       2               Pizza / Wings / Cheesecake   \n",
              "122       1               rice, potato, seaweed soup   \n",
              "123       1             Mac n Cheese, Lasagna, Pizza   \n",
              "124       2             Chocolates, pizza, and Ritz.   \n",
              "\n",
              "                              comfort_food_reasons  \\\n",
              "0                            we dont have comfort    \n",
              "1                             Stress, bored, anger   \n",
              "2                                  stress, sadness   \n",
              "3                                          Boredom   \n",
              "4                       Stress, boredom, cravings    \n",
              "..                                             ...   \n",
              "120                           boredom and sadness    \n",
              "121                Loneliness / Homesick / Sadness   \n",
              "122                                        sadness   \n",
              "123  happiness, they are some of my favorite foods   \n",
              "124               hormones, Premenstrual syndrome.   \n",
              "\n",
              "     comfort_food_reasons_coded  ...  soup  sports  thai_food  \\\n",
              "0                           9.0  ...   1.0     1.0          1   \n",
              "1                           1.0  ...   1.0     1.0          2   \n",
              "2                           1.0  ...   1.0     2.0          5   \n",
              "3                           2.0  ...   1.0     2.0          5   \n",
              "4                           1.0  ...   1.0     1.0          4   \n",
              "..                          ...  ...   ...     ...        ...   \n",
              "120                         NaN  ...   1.0     1.0          5   \n",
              "121                         NaN  ...   1.0     NaN          4   \n",
              "122                         NaN  ...   1.0     2.0          5   \n",
              "123                         NaN  ...   2.0     2.0          1   \n",
              "124                         NaN  ...   1.0     2.0          2   \n",
              "\n",
              "    tortilla_calories  turkey_calories  type_sports veggies_day  vitamins  \\\n",
              "0              1165.0              345   car racing           5         1   \n",
              "1               725.0              690  Basketball            4         2   \n",
              "2              1165.0              500         none           5         1   \n",
              "3               725.0              690          NaN           3         1   \n",
              "4               940.0              500     Softball           4         2   \n",
              "..                ...              ...          ...         ...       ...   \n",
              "120             940.0              500     Softball           5         1   \n",
              "121             940.0              500  basketball            5         2   \n",
              "122             580.0              690         none           4         2   \n",
              "123             940.0              500          NaN           3         1   \n",
              "124             725.0              345          NaN           4         2   \n",
              "\n",
              "     waffle_calories                    weight  \n",
              "0               1315                       187  \n",
              "1                900                       155  \n",
              "2                900  I'm not answering this.   \n",
              "3               1315             Not sure, 240  \n",
              "4                760                       190  \n",
              "..               ...                       ...  \n",
              "120             1315                       156  \n",
              "121             1315                       180  \n",
              "122             1315                       120  \n",
              "123             1315                       135  \n",
              "124              575                       135  \n",
              "\n",
              "[125 rows x 61 columns]"
            ]
          },
          "execution_count": 3,
          "metadata": {},
          "output_type": "execute_result"
        }
      ],
      "source": [
        "# put your answer here\n",
        "df.drop_duplicates()"
      ]
    },
    {
      "cell_type": "markdown",
      "metadata": {
        "id": "Tb377rMBF8xs"
      },
      "source": [
        "2. Use the pandas `isnull()` and `any()` function to check for NaN values in each column. `(6 points)`"
      ]
    },
    {
      "cell_type": "code",
      "execution_count": 4,
      "metadata": {
        "id": "LQXVPklyF8xs"
      },
      "outputs": [
        {
          "data": {
            "text/plain": [
              "34"
            ]
          },
          "execution_count": 4,
          "metadata": {},
          "output_type": "execute_result"
        }
      ],
      "source": [
        "# put your answer here\n",
        "nan_check = df.isnull().any()\n",
        "nan_check.sum(axis=0)"
      ]
    },
    {
      "cell_type": "markdown",
      "metadata": {
        "id": "TyoG9phhF8xs"
      },
      "source": [
        "3. Retrieve all rows with NaN values in the dataset by using the pandas `isnull()` and `.any()` inside a dataframe. `(6 points)`"
      ]
    },
    {
      "cell_type": "code",
      "execution_count": 5,
      "metadata": {
        "id": "-G2tpTIQF8xt"
      },
      "outputs": [
        {
          "name": "stdout",
          "output_type": "stream",
          "text": [
            "Rows with NaN values:\n",
            "       GPA  Gender  breakfast  calories_chicken  calories_day  calories_scone  \\\n",
            "0      2.4       2          1               430           NaN           315.0   \n",
            "3      3.2       1          1               430           3.0           420.0   \n",
            "5     2.25       1          1               610           3.0           980.0   \n",
            "8      3.3       1          1               430           NaN           420.0   \n",
            "15     NaN       2          2               430           NaN           980.0   \n",
            "..     ...     ...        ...               ...           ...             ...   \n",
            "120    3.5       1          1               610           4.0           420.0   \n",
            "121      3       1          1               265           2.0           315.0   \n",
            "122  3.882       1          1               720           NaN           420.0   \n",
            "123      3       2          1               720           4.0           420.0   \n",
            "124    3.9       1          1               430           NaN           315.0   \n",
            "\n",
            "     coffee                             comfort_food  \\\n",
            "0         1                                     none   \n",
            "3         2         Pizza, Mac and cheese, ice cream   \n",
            "5         2                Candy, brownies and soda.   \n",
            "8         1                 Donuts, ice cream, chips   \n",
            "15        2              cookies, donuts, candy bars   \n",
            "..      ...                                      ...   \n",
            "120       2  wine. mac and cheese, pizza, ice cream    \n",
            "121       2               Pizza / Wings / Cheesecake   \n",
            "122       1               rice, potato, seaweed soup   \n",
            "123       1             Mac n Cheese, Lasagna, Pizza   \n",
            "124       2             Chocolates, pizza, and Ritz.   \n",
            "\n",
            "                                  comfort_food_reasons  \\\n",
            "0                                we dont have comfort    \n",
            "3                                              Boredom   \n",
            "5    None, i don't eat comfort food. I just eat whe...   \n",
            "8                                             Boredom    \n",
            "15                                             boredom   \n",
            "..                                                 ...   \n",
            "120                               boredom and sadness    \n",
            "121                    Loneliness / Homesick / Sadness   \n",
            "122                                            sadness   \n",
            "123      happiness, they are some of my favorite foods   \n",
            "124                   hormones, Premenstrual syndrome.   \n",
            "\n",
            "     comfort_food_reasons_coded  ...  soup  sports  thai_food  \\\n",
            "0                           9.0  ...   1.0     1.0          1   \n",
            "3                           2.0  ...   1.0     2.0          5   \n",
            "5                           4.0  ...   1.0     2.0          4   \n",
            "8                           2.0  ...   2.0     2.0          5   \n",
            "15                          2.0  ...   2.0     1.0          1   \n",
            "..                          ...  ...   ...     ...        ...   \n",
            "120                         NaN  ...   1.0     1.0          5   \n",
            "121                         NaN  ...   1.0     NaN          4   \n",
            "122                         NaN  ...   1.0     2.0          5   \n",
            "123                         NaN  ...   2.0     2.0          1   \n",
            "124                         NaN  ...   1.0     2.0          2   \n",
            "\n",
            "    tortilla_calories  turkey_calories  type_sports veggies_day  vitamins  \\\n",
            "0              1165.0              345   car racing           5         1   \n",
            "3               725.0              690          NaN           3         1   \n",
            "5               940.0              345        None.           1         2   \n",
            "8               725.0              345         none           3         2   \n",
            "15              940.0              345       Hockey           1         2   \n",
            "..                ...              ...          ...         ...       ...   \n",
            "120             940.0              500     Softball           5         1   \n",
            "121             940.0              500  basketball            5         2   \n",
            "122             580.0              690         none           4         2   \n",
            "123             940.0              500          NaN           3         1   \n",
            "124             725.0              345          NaN           4         2   \n",
            "\n",
            "     waffle_calories         weight  \n",
            "0               1315            187  \n",
            "3               1315  Not sure, 240  \n",
            "5               1315            190  \n",
            "8                760            180  \n",
            "15              1315            180  \n",
            "..               ...            ...  \n",
            "120             1315            156  \n",
            "121             1315            180  \n",
            "122             1315            120  \n",
            "123             1315            135  \n",
            "124              575            135  \n",
            "\n",
            "[73 rows x 61 columns]\n"
          ]
        }
      ],
      "source": [
        "# put your answer here\n",
        "\n",
        "rows_with_nan = df[df.isnull().any(axis=1)]\n",
        "print(\"Rows with NaN values:\")\n",
        "print(rows_with_nan)"
      ]
    },
    {
      "cell_type": "markdown",
      "metadata": {
        "id": "Q_P9uwRLF8xt"
      },
      "source": [
        "4. Put all of the columns with NaN values in a list. Print the contents of the list. `(6 points)`"
      ]
    },
    {
      "cell_type": "code",
      "execution_count": 6,
      "metadata": {
        "id": "vDzavt2kF8xt"
      },
      "outputs": [
        {
          "name": "stdout",
          "output_type": "stream",
          "text": [
            "Columns with NaN values: \n",
            "['GPA', 'calories_day', 'calories_scone', 'comfort_food', 'comfort_food_reasons', 'comfort_food_reasons_coded', 'cook', 'cuisine', 'diet_current', 'drink', 'eating_changes', 'employment', 'exercise', 'father_education', 'father_profession', 'fav_cuisine', 'fav_food', 'food_childhood', 'healthy_meal', 'ideal_diet', 'income', 'life_rewarding', 'marital_status', 'meals_dinner_friend', 'mother_education', 'mother_profession', 'on_off_campus', 'persian_food', 'self_perception_weight', 'soup', 'sports', 'tortilla_calories', 'type_sports', 'weight']\n"
          ]
        }
      ],
      "source": [
        "# put your answer here\n",
        "columns_with_nan = df.columns[df.isnull().any()].tolist()\n",
        "print(\"Columns with NaN values: \")\n",
        "print(columns_with_nan)"
      ]
    },
    {
      "cell_type": "markdown",
      "metadata": {
        "id": "sNL93oDzF8xt"
      },
      "source": [
        "5. Loop through the list that contains columns with NaN values and use the `fillna()` function to replace NaN values with empty an string. `(6 points)`"
      ]
    },
    {
      "cell_type": "code",
      "execution_count": 7,
      "metadata": {
        "id": "zjCZGnytF8xt"
      },
      "outputs": [
        {
          "name": "stderr",
          "output_type": "stream",
          "text": [
            "C:\\Users\\seanp\\AppData\\Local\\Temp\\ipykernel_12836\\2942378402.py:3: FutureWarning: Setting an item of incompatible dtype is deprecated and will raise in a future error of pandas. Value '' has dtype incompatible with float64, please explicitly cast to a compatible dtype first.\n",
            "  df[column].fillna('',inplace=True)\n"
          ]
        }
      ],
      "source": [
        "# put your answer here\n",
        "for column in columns_with_nan:\n",
        "    df[column].fillna('',inplace=True)\n",
        "    "
      ]
    },
    {
      "cell_type": "markdown",
      "metadata": {
        "id": "S6DEXjj1F8xt"
      },
      "source": [
        "6. In the **GPA** column, replace non-numeric values with zeroes. `(6 points)`"
      ]
    },
    {
      "cell_type": "code",
      "execution_count": 10,
      "metadata": {
        "id": "xcyNAdGOF8xt"
      },
      "outputs": [
        {
          "data": {
            "text/plain": [
              "0     187.0\n",
              "1     155.0\n",
              "2          \n",
              "3          \n",
              "4     190.0\n",
              "5     190.0\n",
              "6     180.0\n",
              "7     137.0\n",
              "8     180.0\n",
              "9     125.0\n",
              "10    116.0\n",
              "11    110.0\n",
              "12    264.0\n",
              "13    123.0\n",
              "14    185.0\n",
              "15    180.0\n",
              "16    145.0\n",
              "17    170.0\n",
              "18    135.0\n",
              "19    165.0\n",
              "Name: GPA, dtype: object"
            ]
          },
          "execution_count": 10,
          "metadata": {},
          "output_type": "execute_result"
        }
      ],
      "source": [
        "# put your answer here\n",
        "df['GPA'] = pd.to_numeric(df.weight, errors='coerce').fillna(\"\")\n",
        "df['GPA'].head(20)"
      ]
    },
    {
      "cell_type": "markdown",
      "metadata": {
        "id": "c4zWA3DCF8xt"
      },
      "source": [
        "7. In the **comfort_food** column, replace empty values with \"none\". `(6 points)`"
      ]
    },
    {
      "cell_type": "code",
      "execution_count": 13,
      "metadata": {
        "id": "A6FFrmVxF8xu"
      },
      "outputs": [
        {
          "data": {
            "text/plain": [
              "0                                                  none\n",
              "1                           chocolate, chips, ice cream\n",
              "2                       frozen yogurt, pizza, fast food\n",
              "3                      Pizza, Mac and cheese, ice cream\n",
              "4                          Ice cream, chocolate, chips \n",
              "5                             Candy, brownies and soda.\n",
              "6          Chocolate, ice cream, french fries, pretzels\n",
              "7                      Ice cream, cheeseburgers, chips.\n",
              "8                              Donuts, ice cream, chips\n",
              "9                 Mac and cheese, chocolate, and pasta \n",
              "10    Pasta, grandma homemade chocolate cake anythin...\n",
              "11               chocolate, pasta, soup, chips, popcorn\n",
              "12                          Cookies, popcorn, and chips\n",
              "13                           ice cream, cake, chocolate\n",
              "14      Pizza, fruit, spaghetti, chicken and Potatoes  \n",
              "15                          cookies, donuts, candy bars\n",
              "16                         Saltfish, Candy and Kit Kat \n",
              "17                            chips, cookies, ice cream\n",
              "18                                 Chocolate, ice crea \n",
              "19                                pizza, wings, Chinese\n",
              "Name: comfort_food, dtype: object"
            ]
          },
          "execution_count": 13,
          "metadata": {},
          "output_type": "execute_result"
        }
      ],
      "source": [
        "# put your answer here\n",
        "df['comfort_food'].fillna('none',inplace=True)\n",
        "df['comfort_food'].head(20)"
      ]
    },
    {
      "cell_type": "markdown",
      "metadata": {
        "id": "PfE-HDRkF8xu"
      },
      "source": [
        "8. In the **weight** column, replace non-numeric values with \"\". `(6 points)`"
      ]
    },
    {
      "cell_type": "code",
      "execution_count": 14,
      "metadata": {
        "id": "v0g7yb4YF8xu"
      },
      "outputs": [
        {
          "data": {
            "text/plain": [
              "0     187.0\n",
              "1     155.0\n",
              "2          \n",
              "3          \n",
              "4     190.0\n",
              "5     190.0\n",
              "6     180.0\n",
              "7     137.0\n",
              "8     180.0\n",
              "9     125.0\n",
              "10    116.0\n",
              "11    110.0\n",
              "12    264.0\n",
              "13    123.0\n",
              "14    185.0\n",
              "15    180.0\n",
              "16    145.0\n",
              "17    170.0\n",
              "18    135.0\n",
              "19    165.0\n",
              "Name: weight, dtype: object"
            ]
          },
          "execution_count": 14,
          "metadata": {},
          "output_type": "execute_result"
        }
      ],
      "source": [
        "# put your answer here\n",
        "df['weight'] = pd.to_numeric(df.weight, errors='coerce').fillna(\"\")\n",
        "df['weight'].head(20)"
      ]
    },
    {
      "cell_type": "markdown",
      "metadata": {
        "id": "PCwSu3QZF8xu"
      },
      "source": [
        "## Feature Scaling"
      ]
    },
    {
      "cell_type": "markdown",
      "metadata": {
        "id": "SUGE273SF8xu"
      },
      "source": [
        "9. Create a new dataframe which contains the following columns: `(6 points)`\n",
        "- calories_chicken\n",
        "- calories_scone\n",
        "- tortilla_calories\n",
        "- turkey_calories\n",
        "- waffle_calories"
      ]
    },
    {
      "cell_type": "code",
      "execution_count": 15,
      "metadata": {
        "id": "8flM0N6gF8xu"
      },
      "outputs": [],
      "source": [
        "# put your answer here\n",
        "selected_columns = [\n",
        "    'calories_chicken',\n",
        "    'calories_scone',\n",
        "    'tortilla_calories',\n",
        "    'turkey_calories',\n",
        "    'waffle_calories'\n",
        "]\n",
        "\n",
        "new_df = df[selected_columns]"
      ]
    },
    {
      "cell_type": "markdown",
      "metadata": {
        "id": "5jAfCHIXF8xu"
      },
      "source": [
        "10. Replace the empty values un calorie column with zeroes using the `replace()` function. `(6 points)`"
      ]
    },
    {
      "cell_type": "code",
      "execution_count": 16,
      "metadata": {
        "id": "IG-AUZyHF8xu"
      },
      "outputs": [
        {
          "name": "stdout",
          "output_type": "stream",
          "text": [
            "     calories_chicken calories_scone tortilla_calories  turkey_calories  \\\n",
            "0                 430          315.0            1165.0              345   \n",
            "1                 610          420.0             725.0              690   \n",
            "2                 720          420.0            1165.0              500   \n",
            "3                 430          420.0             725.0              690   \n",
            "4                 720          420.0             940.0              500   \n",
            "..                ...            ...               ...              ...   \n",
            "120               610          420.0             940.0              500   \n",
            "121               265          315.0             940.0              500   \n",
            "122               720          420.0             580.0              690   \n",
            "123               720          420.0             940.0              500   \n",
            "124               430          315.0             725.0              345   \n",
            "\n",
            "     waffle_calories  \n",
            "0               1315  \n",
            "1                900  \n",
            "2                900  \n",
            "3               1315  \n",
            "4                760  \n",
            "..               ...  \n",
            "120             1315  \n",
            "121             1315  \n",
            "122             1315  \n",
            "123             1315  \n",
            "124              575  \n",
            "\n",
            "[125 rows x 5 columns]\n"
          ]
        }
      ],
      "source": [
        "# put your answer here\n",
        "new_df = new_df.replace('', '0')\n",
        "print (new_df)\n"
      ]
    },
    {
      "cell_type": "markdown",
      "metadata": {
        "id": "cYpiuog6F8xu"
      },
      "source": [
        "11. Use the `astype()` function to convert all columns of the new dataframe to `int`. `(6 points)`"
      ]
    },
    {
      "cell_type": "code",
      "execution_count": 17,
      "metadata": {
        "id": "xUST6Zp1F8xu"
      },
      "outputs": [
        {
          "name": "stdout",
          "output_type": "stream",
          "text": [
            "<class 'pandas.core.frame.DataFrame'>\n",
            "RangeIndex: 125 entries, 0 to 124\n",
            "Data columns (total 5 columns):\n",
            " #   Column             Non-Null Count  Dtype\n",
            "---  ------             --------------  -----\n",
            " 0   calories_chicken   125 non-null    int32\n",
            " 1   calories_scone     125 non-null    int32\n",
            " 2   tortilla_calories  125 non-null    int32\n",
            " 3   turkey_calories    125 non-null    int32\n",
            " 4   waffle_calories    125 non-null    int32\n",
            "dtypes: int32(5)\n",
            "memory usage: 2.6 KB\n"
          ]
        }
      ],
      "source": [
        "# put your answer here\n",
        "new_df = new_df.astype(int)\n",
        "new_df.info()"
      ]
    },
    {
      "cell_type": "markdown",
      "metadata": {
        "id": "OjswZ10bF8xu"
      },
      "source": [
        "12. Check the datatype of each column of the new dataframe using the `d_types` property. `(6 points)`"
      ]
    },
    {
      "cell_type": "code",
      "execution_count": 18,
      "metadata": {
        "id": "yGul3cfIF8xv"
      },
      "outputs": [
        {
          "name": "stdout",
          "output_type": "stream",
          "text": [
            "calories_chicken     int32\n",
            "calories_scone       int32\n",
            "tortilla_calories    int32\n",
            "turkey_calories      int32\n",
            "waffle_calories      int32\n",
            "dtype: object\n"
          ]
        }
      ],
      "source": [
        "# put your answer here\n",
        "data_types = new_df.dtypes\n",
        "print (data_types)"
      ]
    },
    {
      "cell_type": "markdown",
      "metadata": {
        "id": "13bBW40QF8xv"
      },
      "source": [
        "13. Create a new instance of the `MinMaxScaler()` class. `(6 points)`"
      ]
    },
    {
      "cell_type": "code",
      "execution_count": 19,
      "metadata": {
        "id": "kXg0JTOeF8xv"
      },
      "outputs": [],
      "source": [
        "# put your answer here\n",
        "scaler = MinMaxScaler()"
      ]
    },
    {
      "cell_type": "markdown",
      "metadata": {
        "id": "Sgg_O3O-F8xv"
      },
      "source": [
        "14. Use the `fit_transform()` function to normalize all calorie features between 0 and 1. `(6 points)`"
      ]
    },
    {
      "cell_type": "code",
      "execution_count": 20,
      "metadata": {
        "id": "wIypE0OjF8xv"
      },
      "outputs": [],
      "source": [
        "# put your answer here\n",
        "calorie_features = new_df\n",
        "normalized_calories = scaler.fit_transform(calorie_features)"
      ]
    },
    {
      "cell_type": "markdown",
      "metadata": {
        "id": "E6_ZeIjRF8xv"
      },
      "source": [
        "## Discretization"
      ]
    },
    {
      "cell_type": "code",
      "execution_count": 21,
      "metadata": {
        "id": "sfwl39OyF8xv"
      },
      "outputs": [],
      "source": [
        "# Code to replace empty values with zeroes\n",
        "df['weight'] = df['weight'].replace(\"\", value=\"0\")\n",
        "\n",
        "# Code to convert the weight column to int\n",
        "df['weight'] = df['weight'].astype(int)"
      ]
    },
    {
      "cell_type": "markdown",
      "metadata": {
        "id": "NlihnS0uF8xv"
      },
      "source": [
        "15. Use the matplotlib `hist()` function to create a histogram of the distribution of values of the weight column in the dataset. `(6 points)`"
      ]
    },
    {
      "cell_type": "code",
      "execution_count": 28,
      "metadata": {
        "id": "uXk3nF08F8xv"
      },
      "outputs": [
        {
          "data": {
            "image/png": "[encoded data removed]",
            "text/plain": [
              "<Figure size 640x480 with 1 Axes>"
            ]
          },
          "metadata": {},
          "output_type": "display_data"
        }
      ],
      "source": [
        "plt.hist(df.weight, edgecolor='k')\n",
        "plt.xlabel('Weight')\n",
        "plt.ylabel('Frequency')\n",
        "plt.title('Distribution of Weight')\n",
        "\n",
        "plt.show()"
      ]
    },
    {
      "cell_type": "markdown",
      "metadata": {
        "id": "zDrO_-dTF8xv"
      },
      "source": [
        "16. Pass three (3) bins to the matplotlib `hist()` function to create a histogram of the distribution of values of the weight column. `(6 points)`"
      ]
    },
    {
      "cell_type": "code",
      "execution_count": 27,
      "metadata": {
        "id": "bHIvenbuF8xw"
      },
      "outputs": [
        {
          "data": {
            "text/plain": [
              "Text(0.5, 1.0, 'Distribution of Weight')"
            ]
          },
          "execution_count": 27,
          "metadata": {},
          "output_type": "execute_result"
        },
        {
          "data": {
            "image/png": "[encoded data removed]",
            "text/plain": [
              "<Figure size 640x480 with 1 Axes>"
            ]
          },
          "metadata": {},
          "output_type": "display_data"
        }
      ],
      "source": [
        "plt.hist(df['weight'], 3, edgecolor='k')\n",
        "plt.xlabel('Weight')\n",
        "plt.ylabel('Frequency')\n",
        "plt.title('Distribution of Weight')"
      ]
    },
    {
      "cell_type": "markdown",
      "metadata": {
        "id": "NMM1ZpNxF8xw"
      },
      "source": [
        "17. Use the seaborn `histplot()` function to create a histogram:. `(6 points)`\n",
        "\n",
        "    - Create three bins **0 to 100**, 1**00 to 200**, **200 to 300**\n",
        "    - Name the first bin from **0 to 100** as **Underweight**\n",
        "    - Name the second bin from **0 to 100** as **Normal**\n",
        "    - Name the third bin from **0 to 100** as **Overweight**\n",
        "\n",
        "    - Set the `set_xticks()` to **0,150,250**\n",
        "    - Set the `set_xticklabels()` to **\"Underweight\", \"Normal\", \"Overweight\"**\n"
      ]
    },
    {
      "cell_type": "code",
      "execution_count": 26,
      "metadata": {
        "id": "eKNf7vDsF8xw"
      },
      "outputs": [
        {
          "name": "stderr",
          "output_type": "stream",
          "text": [
            "C:\\Users\\seanp\\AppData\\Local\\Packages\\PythonSoftwareFoundation.Python.3.10_qbz5n2kfra8p0\\LocalCache\\local-packages\\Python310\\site-packages\\seaborn\\_oldcore.py:1498: FutureWarning: is_categorical_dtype is deprecated and will be removed in a future version. Use isinstance(dtype, CategoricalDtype) instead\n",
            "  if pd.api.types.is_categorical_dtype(vector):\n",
            "C:\\Users\\seanp\\AppData\\Local\\Packages\\PythonSoftwareFoundation.Python.3.10_qbz5n2kfra8p0\\LocalCache\\local-packages\\Python310\\site-packages\\seaborn\\_oldcore.py:1119: FutureWarning: use_inf_as_na option is deprecated and will be removed in a future version. Convert inf values to NaN before operating instead.\n",
            "  with pd.option_context('mode.use_inf_as_na', True):\n"
          ]
        },
        {
          "data": {
            "image/png": "[encoded data removed]",
            "text/plain": [
              "<Figure size 640x480 with 1 Axes>"
            ]
          },
          "metadata": {},
          "output_type": "display_data"
        }
      ],
      "source": [
        "sns.histplot(df.weight, bins=[0, 100, 200, 300], binrange=(0,300))\n",
        "plt.xlabel('Weight')\n",
        "plt.ylabel('Frequency')\n",
        "plt.title('Distribution of Weight')\n",
        "\n",
        "plt.xticks([0, 150, 250], ['Underweight', 'Normal', 'Overweight'])\n",
        "plt.show()"
      ]
    }
  ],
  "metadata": {
    "colab": {
      "include_colab_link": true,
      "provenance": []
    },
    "kernelspec": {
      "display_name": "Python 3",
      "language": "python",
      "name": "python3"
    },
    "language_info": {
      "codemirror_mode": {
        "name": "ipython",
        "version": 3
      },
      "file_extension": ".py",
      "mimetype": "text/x-python",
      "name": "python",
      "nbconvert_exporter": "python",
      "pygments_lexer": "ipython3",
      "version": "3.10.11"
    },
    "orig_nbformat": 4
  },
  "nbformat": 4,
  "nbformat_minor": 0
}
